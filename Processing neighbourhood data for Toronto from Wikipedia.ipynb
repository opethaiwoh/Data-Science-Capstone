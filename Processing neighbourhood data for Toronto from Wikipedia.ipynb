{
 "cells": [
  {
   "cell_type": "markdown",
   "metadata": {},
   "source": [
    "Processing neighbourhood data for Toronto from Wikipedia"
   ]
  },
  {
   "cell_type": "code",
   "execution_count": 2,
   "metadata": {},
   "outputs": [],
   "source": [
    "import pandas as pd\n",
    "import numpy as np\n",
    "from bs4 import BeautifulSoup\n",
    "import requests"
   ]
  },
  {
   "cell_type": "code",
   "execution_count": 3,
   "metadata": {},
   "outputs": [
    {
     "name": "stdout",
     "output_type": "stream",
     "text": [
      "3\n"
     ]
    }
   ],
   "source": [
    "url = \"https://en.wikipedia.org/wiki/List_of_postal_codes_of_Canada:_M\"\n",
    "data = requests.get(url).text\n",
    "soup = BeautifulSoup(data, 'html.parser')\n",
    "\n",
    "# Find all of the tables on the page\n",
    "tables = soup.find_all('table')\n",
    "print(len(tables))"
   ]
  },
  {
   "cell_type": "code",
   "execution_count": 4,
   "metadata": {},
   "outputs": [],
   "source": [
    "neighbourhood_data = pd.DataFrame(columns=[\"PostalCode\", \"Borough\", \"Neighbourhood\"])\n",
    "\n",
    "for row in tables[0].tbody.find_all(\"tr\"):\n",
    "    col=row.find_all(\"td\")\n",
    "    for cell in col:\n",
    "        if 'Not assigned' in cell.text:\n",
    "            pass\n",
    "        else:\n",
    "            postalCode=cell.find_all(\"b\")[0].text # All post codes are in bold\n",
    "            info = cell.span.text.split('(')\n",
    "            borough = info[0]\n",
    "            neighbourhood = info[1].strip(')').replace(')',' ').replace('/', ',').strip(' ')\n",
    "            neighbourhood_data = neighbourhood_data.append({\"PostalCode\":postalCode, \"Borough\":borough,\n",
    "                                                            \"Neighbourhood\":neighbourhood}, ignore_index=True)\n",
    "\n",
    "neighbourhood_data['Borough']=neighbourhood_data['Borough'].replace({'Downtown TorontoStn A PO Boxes25 The Esplanade':'Downtown Toronto Stn A',\n",
    "                                             'East TorontoBusiness reply mail Processing Centre969 Eastern':'East Toronto Business',\n",
    "                                             'EtobicokeNorthwest':'Etobicoke Northwest','East YorkEast Toronto':'East York/East Toronto',\n",
    "                                             'MississaugaCanada Post Gateway Processing Centre':'Mississauga'})"
   ]
  },
  {
   "cell_type": "code",
   "execution_count": 5,
   "metadata": {},
   "outputs": [
    {
     "data": {
      "text/plain": [
       "(103, 3)"
      ]
     },
     "execution_count": 5,
     "metadata": {},
     "output_type": "execute_result"
    }
   ],
   "source": [
    "neighbourhood_data.shape"
   ]
  },
  {
   "cell_type": "code",
   "execution_count": null,
   "metadata": {},
   "outputs": [],
   "source": []
  }
 ],
 "metadata": {
  "kernelspec": {
   "display_name": "Python 3",
   "language": "python",
   "name": "python3"
  },
  "language_info": {
   "codemirror_mode": {
    "name": "ipython",
    "version": 3
   },
   "file_extension": ".py",
   "mimetype": "text/x-python",
   "name": "python",
   "nbconvert_exporter": "python",
   "pygments_lexer": "ipython3",
   "version": "3.8.5"
  }
 },
 "nbformat": 4,
 "nbformat_minor": 4
}
